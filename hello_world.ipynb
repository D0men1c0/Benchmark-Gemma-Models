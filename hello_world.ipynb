{
  "cells": [
    {
      "cell_type": "markdown",
      "metadata": {},
      "source": [
        "# Cloning Repo"
      ]
    },
    {
      "cell_type": "code",
      "execution_count": null,
      "metadata": {
        "colab": {
          "base_uri": "https://localhost:8080/"
        },
        "id": "gzxdrL1a4Lt-",
        "outputId": "f96c6e55-7bd6-4298-a494-6f2ebb397015"
      },
      "outputs": [],
      "source": [
        "!git clone https://github.com/D0men1c0/Benchmark-Gemma-Models\n",
        "%cd Benchmark-Gemma-Models"
      ]
    },
    {
      "cell_type": "markdown",
      "metadata": {},
      "source": [
        "# Dependencies"
      ]
    },
    {
      "cell_type": "code",
      "execution_count": null,
      "metadata": {
        "colab": {
          "base_uri": "https://localhost:8080/"
        },
        "id": "xbrNnQh64WNZ",
        "outputId": "26501858-c867-4a05-d7b3-e61090eac912"
      },
      "outputs": [],
      "source": [
        "!pip install -r requirements.txt"
      ]
    },
    {
      "cell_type": "markdown",
      "metadata": {},
      "source": [
        "# HF Token"
      ]
    },
    {
      "cell_type": "code",
      "execution_count": null,
      "metadata": {
        "colab": {
          "base_uri": "https://localhost:8080/"
        },
        "id": "IwU9gMcB5sSp",
        "outputId": "c9b0e8fc-c062-42e0-b237-086360300ddc"
      },
      "outputs": [],
      "source": [
        "from huggingface_hub import login\n",
        "from google.colab import userdata\n",
        "import os\n",
        "\n",
        "# Retrieve the token from Colab secretsy\n",
        "hf_token = userdata.get('HF_TOKEN')\n",
        "\n",
        "if hf_token:\n",
        "    print(\"Logging in to Hugging Face Hub...\")\n",
        "    login(token=hf_token)\n",
        "    print(\"Login successful!\")\n",
        "    os.environ['HF_TOKEN'] = hf_token\n",
        "else:\n",
        "    print(\"HF_TOKEN secret not found. Please add it in Colab Secrets.\")"
      ]
    },
    {
      "cell_type": "markdown",
      "metadata": {},
      "source": [
        "# Execute"
      ]
    },
    {
      "cell_type": "code",
      "execution_count": null,
      "metadata": {
        "colab": {
          "base_uri": "https://localhost:8080/"
        },
        "id": "aiLQYxWA5H6D",
        "outputId": "c58041f0-9e69-421f-d556-7b5c02639493"
      },
      "outputs": [],
      "source": [
        "!python src/scripts/run_benchmark.py"
      ]
    }
  ],
  "metadata": {
    "accelerator": "GPU",
    "colab": {
      "gpuType": "T4",
      "provenance": []
    },
    "kernelspec": {
      "display_name": "Python 3",
      "name": "python3"
    },
    "language_info": {
      "name": "python"
    }
  },
  "nbformat": 4,
  "nbformat_minor": 0
}
